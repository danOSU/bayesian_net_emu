{
 "cells": [
  {
   "cell_type": "code",
   "execution_count": 1,
   "metadata": {},
   "outputs": [],
   "source": [
    "%matplotlib inline\n",
    "import sklearn\n",
    "import numpy as np\n",
    "import matplotlib.pyplot as plt\n",
    "from warnings import filterwarnings\n",
    "filterwarnings('ignore')\n",
    "\n",
    "import seaborn as sns\n",
    "sns.set()\n",
    "from sklearn import datasets\n",
    "from sklearn.preprocessing import StandardScaler\n",
    "from sklearn.preprocessing import scale\n",
    "from sklearn.model_selection import train_test_split"
   ]
  },
  {
   "cell_type": "code",
   "execution_count": 2,
   "metadata": {},
   "outputs": [],
   "source": [
    "# suppress some theano compilation errors with MacOSX clang compiler\n",
    "import theano\n",
    "# CF added (https://stackoverflow.com/questions/51238578/error-non-constant-expression-cannot-be-narrowed-from-type-npy-intp-to-int)\n",
    "theano.config.gcc.cxxflags = \"-Wno-c++11-narrowing\"\n",
    "floatX = theano.config.floatX\n",
    "import pymc3 as pm\n",
    "import theano.tensor as T"
   ]
  },
  {
   "cell_type": "code",
   "execution_count": 3,
   "metadata": {},
   "outputs": [],
   "source": [
    "#prepare the directories for model design and outputs\n",
    "! sh prepare.sh"
   ]
  },
  {
   "cell_type": "code",
   "execution_count": 3,
   "metadata": {},
   "outputs": [
    {
     "name": "stdout",
     "output_type": "stream",
     "text": [
      "Using idf = 0 : Grad\n",
      "SystemsInfo = \n",
      "{'Pb-Pb-2760': {'proj': 'Pb', 'targ': 'Pb', 'sqrts': 2760, 'main_design_file': 'production_designs/500pts/design_pts_Pb_Pb_2760_production/design_points_main_PbPb-2760.dat', 'main_range_file': 'production_designs/500pts/design_pts_Pb_Pb_2760_production/design_ranges_main_PbPb-2760.dat', 'validation_design_file': 'production_designs/500pts/design_pts_Pb_Pb_2760_production/design_points_validation_PbPb-2760.dat', 'validation_range_file': 'production_designs/500pts/design_pts_Pb_Pb_2760_production//design_ranges_validation_PbPb-2760.dat', 'main_events_dir': 'model_calculations/production_500pts_Pb_Pb_2760/Events/main', 'validation_events_dir': 'model_calculations/production_500pts_Pb_Pb_2760/Events/validation', 'main_obs_file': 'model_calculations/production_500pts_Pb_Pb_2760/Obs/main.dat', 'validation_obs_file': 'model_calculations/production_500pts_Pb_Pb_2760/Obs/validation.dat', 'n_design': 500, 'n_validation': 100, 'design_remove_idx': [289, 483, 324, 326, 459, 429, 334, 462, 242, 341, 406, 440, 377, 123, 447], 'npc': 10, 'MAP_obs_file': 'model_calculations/MAP/Grad/Obs/obs_Pb-Pb-2760.dat'}, 'Au-Au-200': {'proj': 'Au', 'targ': 'Au', 'sqrts': 200, 'main_design_file': 'production_designs/500pts/design_pts_Au_Au_200_production/design_points_main_AuAu-200.dat', 'main_range_file': 'production_designs/500pts/design_pts_Au_Au_200_production/design_ranges_main_AuAu-200.dat', 'validation_design_file': 'production_designs/500pts/design_pts_Au_Au_200_production/design_points_validation_AuAu-200.dat', 'validation_range_file': 'production_designs/500pts/design_pts_Au_Au_200_production//design_ranges_validation_AuAu-200.dat', 'main_events_dir': 'model_calculations/production_500pts_Au_Au_200/Events/main', 'validation_events_dir': 'model_calculations/production_500pts_Au_Au_200/Events/validation', 'main_obs_file': 'model_calculations/production_500pts_Au_Au_200/Obs/main.dat', 'validation_obs_file': 'model_calculations/production_500pts_Au_Au_200/Obs/validation.dat', 'n_design': 500, 'n_validation': 100, 'design_remove_idx': [289, 483, 324, 326, 459, 429, 334, 462, 242, 341, 406, 440, 377, 123, 447], 'npc': 6, 'MAP_obs_file': 'model_calculations/MAP/Grad/Obs/obs_Au-Au-200.dat'}}\n",
      "The active observable list for calibration: {'Pb-Pb-2760': ['dNch_deta', 'dET_deta', 'dN_dy_pion', 'dN_dy_kaon', 'dN_dy_proton', 'mean_pT_pion', 'mean_pT_kaon', 'mean_pT_proton', 'pT_fluct', 'v22', 'v32', 'v42'], 'Au-Au-200': ['dN_dy_pion', 'dN_dy_kaon', 'mean_pT_pion', 'mean_pT_kaon', 'v22', 'v32']}\n",
      "Loading Pb-Pb-2760 main calculations from model_calculations/production_500pts_Pb_Pb_2760/Obs/main.dat\n",
      "model_data.shape = (500,)\n",
      "Design points which will be deleted from training : [289, 483, 324, 326, 459, 429, 334, 462, 242, 341, 406, 440, 377, 123, 447]\n",
      "Loading Pb-Pb-2760 MAP calculations from model_calculations/MAP/Grad/Obs/obs_Pb-Pb-2760.dat\n",
      "No MAP calculations found for system Pb-Pb-2760\n",
      "Loading Au-Au-200 main calculations from model_calculations/production_500pts_Au_Au_200/Obs/main.dat\n",
      "model_data.shape = (500,)\n",
      "Design points which will be deleted from training : [289, 483, 324, 326, 459, 429, 334, 462, 242, 341, 406, 440, 377, 123, 447]\n",
      "Loading Au-Au-200 MAP calculations from model_calculations/MAP/Grad/Obs/obs_Au-Au-200.dat\n",
      "No MAP calculations found for system Au-Au-200\n"
     ]
    }
   ],
   "source": [
    "from calculations_load import *\n",
    "from configurations import *\n",
    "\n",
    "system_str = 'Pb-Pb-2760'\n",
    "design_file = 'production_designs/500pts/design_pts_Pb_Pb_2760_production/design_points_main_PbPb-2760.dat'\n",
    "design = pd.read_csv(design_file)\n",
    "design = design.drop(\"idx\", axis=1)\n",
    "\n",
    "#delete bad design points\n",
    "drop_indices = list(delete_design_pts_set)\n",
    "design = design.drop(drop_indices)\n",
    "\n",
    "X = design\n",
    "\n",
    "n_design = SystemsInfo[\"Pb-Pb-2760\"][\"n_design\"]\n",
    "npt = n_design - len(delete_design_pts_set)\n",
    "obs = 'v22'\n",
    "cent_bin = 5\n",
    "Y = []\n",
    "for pt in range(npt):\n",
    "    Y.append( trimmed_model_data[system_str][pt, idf][obs]['mean'][cent_bin] )\n",
    "\n",
    "#Y = np.array(Y).reshape(-1, 1)\n",
    "Y = np.array(Y)"
   ]
  },
  {
   "cell_type": "code",
   "execution_count": 4,
   "metadata": {},
   "outputs": [],
   "source": [
    "X = X.astype(floatX)\n",
    "Y = Y.astype(floatX)\n",
    "\n",
    "X_train, X_test, Y_train, Y_test = train_test_split(X, Y, test_size=.3)\n",
    "\n",
    "X_scaler = StandardScaler().fit(X_train)\n",
    "#Y_scaler = StandardScaler().fit(Y_train)\n",
    "\n",
    "X_train = X_scaler.transform(X_train)\n",
    "X_test = X_scaler.transform(X_test)\n",
    "\n",
    "#Y_train = Y_scaler.transform(Y_train).reshape(Y_train.shape[0])\n",
    "#Y_test = Y_scaler.transform(Y_test).reshape(Y_test.shape[0])"
   ]
  },
  {
   "cell_type": "code",
   "execution_count": 5,
   "metadata": {},
   "outputs": [],
   "source": [
    "def construct_nn(ann_input, ann_output):\n",
    "    n_hidden = 5\n",
    "\n",
    "    # Initialize random weights between each layer\n",
    "    init_1 = np.random.randn(X.shape[1], n_hidden).astype(floatX)\n",
    "    init_2 = np.random.randn(n_hidden, n_hidden).astype(floatX)\n",
    "    init_out = np.random.randn(n_hidden).astype(floatX)\n",
    "\n",
    "    with pm.Model() as neural_network:\n",
    "        # Trick: Turn inputs and outputs into shared variables using the data container pm.Data\n",
    "        # It's still the same thing, but we can later change the values of the shared variable\n",
    "        # (to switch in the test-data later) and pymc3 will just use the new data.\n",
    "        # Kind-of like a pointer we can redirect.\n",
    "        # For more info, see: http://deeplearning.net/software/theano/library/compile/shared.html\n",
    "        ann_input = pm.Data('ann_input', X_train)\n",
    "        ann_output = pm.Data('ann_output', Y_train)\n",
    "\n",
    "        # Weights from input to hidden layer\n",
    "        weights_in_1 = pm.Normal('w_in_1', 0, sigma=1,\n",
    "                                 shape=(X.shape[1], n_hidden),\n",
    "                                 testval=init_1)\n",
    "\n",
    "        # Weights from 1st to 2nd layer\n",
    "        weights_1_2 = pm.Normal('w_1_2', 0, sigma=1,\n",
    "                                shape=(n_hidden, n_hidden),\n",
    "                                testval=init_2)\n",
    "        \n",
    "\n",
    "        # Weights from hidden layer to output\n",
    "        weights_2_out = pm.Normal('w_2_out', 0, sigma=1,\n",
    "                                  shape=(n_hidden,),\n",
    "                                  testval=init_out)\n",
    "\n",
    "        # Build neural-network using tanh activation function\n",
    "        act_1 = pm.math.tanh(pm.math.dot(ann_input, weights_in_1))\n",
    "        act_2 = pm.math.tanh(pm.math.dot(act_1, weights_1_2))\n",
    "        #act_out = pm.math.sigmoid(pm.math.dot(act_2, weights_2_out))\n",
    "        act_out = pm.math.tanh(pm.math.dot(act_2, weights_2_out))\n",
    "\n",
    "        # What likelihood function should we use for the final outputs? Normal?\n",
    "        out = pm.Normal('out',\n",
    "                           act_out,\n",
    "                           observed=ann_output,\n",
    "                           total_size=Y_train.shape[0] # IMPORTANT for minibatches\n",
    "                          )\n",
    "    return neural_network\n",
    "\n",
    "neural_network = construct_nn(X_train, Y_train)"
   ]
  },
  {
   "cell_type": "code",
   "execution_count": 6,
   "metadata": {},
   "outputs": [],
   "source": [
    "from pymc3.theanof import set_tt_rng, MRG_RandomStreams\n",
    "set_tt_rng(MRG_RandomStreams(42))"
   ]
  },
  {
   "cell_type": "code",
   "execution_count": 7,
   "metadata": {},
   "outputs": [
    {
     "name": "stderr",
     "output_type": "stream",
     "text": [
      "Average Loss = 327.52: 100%|██████████| 30000/30000 [00:33<00:00, 904.98it/s] \n",
      "Finished [100%]: Average Loss = 327.51\n"
     ]
    },
    {
     "name": "stdout",
     "output_type": "stream",
     "text": [
      "CPU times: user 35.7 s, sys: 4.24 s, total: 40 s\n",
      "Wall time: 42.9 s\n"
     ]
    }
   ],
   "source": [
    "%%time\n",
    "\n",
    "with neural_network:\n",
    "    inference = pm.ADVI()\n",
    "    approx = pm.fit(n=30000, method=inference)"
   ]
  },
  {
   "cell_type": "code",
   "execution_count": 8,
   "metadata": {},
   "outputs": [
    {
     "data": {
      "image/png": "[encoded data removed]",
      "text/plain": [
       "<Figure size 576x432 with 1 Axes>"
      ]
     },
     "metadata": {
      "needs_background": "light"
     },
     "output_type": "display_data"
    }
   ],
   "source": [
    "fig, ax = plt.subplots(figsize=(8,6))\n",
    "\n",
    "ax.plot(-inference.hist, label='new ADVI', alpha=.5)\n",
    "ax.legend()\n",
    "ax.set_ylabel('ELBO')\n",
    "ax.set_xlabel('iteration')\n",
    "plt.tight_layout;"
   ]
  },
  {
   "cell_type": "code",
   "execution_count": 9,
   "metadata": {},
   "outputs": [],
   "source": [
    "trace = approx.sample(draws=5000)"
   ]
  },
  {
   "cell_type": "markdown",
   "metadata": {},
   "source": [
    "Now that we trained our model, lets predict on the hold-out set using a posterior predictive check (PPC). \n",
    "1. We can use `sample_posterior_predictive() <../api/inference.rst>`__ to generate new data (in this case class predictions) from the posterior (sampled from the variational estimation).\n",
    "1. It is better to get the node directly and build theano graph using our approximation (approx.sample_node) , we get a lot of speed up"
   ]
  },
  {
   "cell_type": "code",
   "execution_count": 17,
   "metadata": {},
   "outputs": [
    {
     "data": {
      "text/plain": [
       "Elemwise{tanh,no_inplace}.0"
      ]
     },
     "execution_count": 17,
     "metadata": {},
     "output_type": "execute_result"
    }
   ],
   "source": [
    "# We can get predicted output from model\n",
    "neural_network.out.distribution.mu"
   ]
  },
  {
   "cell_type": "code",
   "execution_count": 18,
   "metadata": {},
   "outputs": [],
   "source": [
    "# create symbolic input\n",
    "x = T.matrix('X')\n",
    "# symbolic number of samples is supported, we build vectorized posterior on the fly\n",
    "n = T.iscalar('n')\n",
    "# Do not forget test_values or set theano.config.compute_test_value = 'off'\n",
    "x.tag.test_value = np.empty_like(X_train[:10])\n",
    "n.tag.test_value = 100\n",
    "_sample_pred = approx.sample_node(neural_network.out.distribution.mu,\n",
    "                                   size=n,\n",
    "                                   more_replacements={neural_network['ann_input']: x})\n",
    "# It is time to compile the function\n",
    "# No updates are needed for Approximation random generator\n",
    "# Efficient vectorized form of sampling is used\n",
    "sample_pred = theano.function([x, n], _sample_pred)\n",
    "\n",
    "# Create bechmark functions\n",
    "def production_step1():\n",
    "    pm.set_data(new_data={'ann_input': X_test, 'ann_output': Y_test}, model=neural_network)\n",
    "    ppc = pm.sample_posterior_predictive(trace, samples=500, progressbar=False, model=neural_network)\n",
    "\n",
    "    # Use probability of > 0.5 to assume prediction of class 1\n",
    "    pred = ppc['out'].mean(axis=0)\n",
    "\n",
    "def production_step2():\n",
    "    sample_pred(X_test, 500).mean(0) "
   ]
  },
  {
   "cell_type": "code",
   "execution_count": 19,
   "metadata": {},
   "outputs": [
    {
     "name": "stdout",
     "output_type": "stream",
     "text": [
      "5.21 s ± 1.08 s per loop (mean ± std. dev. of 7 runs, 1 loop each)\n"
     ]
    }
   ],
   "source": [
    "%timeit production_step1()"
   ]
  },
  {
   "cell_type": "code",
   "execution_count": 20,
   "metadata": {},
   "outputs": [
    {
     "name": "stdout",
     "output_type": "stream",
     "text": [
      "22.8 ms ± 3.73 ms per loop (mean ± std. dev. of 7 runs, 10 loops each)\n"
     ]
    }
   ],
   "source": [
    "%timeit production_step2()"
   ]
  },
  {
   "cell_type": "markdown",
   "metadata": {},
   "source": [
    "Let’s go ahead and generate predictions:"
   ]
  },
  {
   "cell_type": "code",
   "execution_count": 21,
   "metadata": {},
   "outputs": [],
   "source": [
    "pred = sample_pred(X_test, 500).mean(0)"
   ]
  },
  {
   "cell_type": "code",
   "execution_count": 22,
   "metadata": {},
   "outputs": [
    {
     "data": {
      "image/png": "[encoded data removed]",
      "text/plain": [
       "<Figure size 576x576 with 1 Axes>"
      ]
     },
     "metadata": {
      "needs_background": "light"
     },
     "output_type": "display_data"
    }
   ],
   "source": [
    "fig, ax = plt.subplots(figsize=(8,8))\n",
    "sns.scatterplot(Y_test, pred)\n",
    "plt.xlabel(r\"$y$\")\n",
    "plt.ylabel(r\"$\\hat{y}$\")\n",
    "plt.show()"
   ]
  },
  {
   "cell_type": "markdown",
   "metadata": {},
   "source": [
    "## Lets look at what the classifier has learned\n",
    "\n",
    "For this, we evaluate the class probability predictions on a grid over the whole input space."
   ]
  },
  {
   "cell_type": "code",
   "execution_count": null,
   "metadata": {},
   "outputs": [],
   "source": [
    "grid = pm.floatX(np.mgrid[-3:3:100j,-3:3:100j])\n",
    "grid_2d = grid.reshape(2, -1).T\n",
    "dummy_out = np.ones(grid.shape[1], dtype=np.int8)"
   ]
  },
  {
   "cell_type": "code",
   "execution_count": null,
   "metadata": {},
   "outputs": [],
   "source": [
    "ppc = sample_proba(grid_2d ,500)"
   ]
  },
  {
   "cell_type": "markdown",
   "metadata": {},
   "source": [
    "### Probability surface"
   ]
  },
  {
   "cell_type": "code",
   "execution_count": null,
   "metadata": {},
   "outputs": [],
   "source": [
    "cmap = sns.diverging_palette(250, 12, s=85, l=25, as_cmap=True)\n",
    "fig, ax = plt.subplots(figsize=(12, 9))\n",
    "contour = ax.contourf(grid[0], grid[1], ppc.mean(axis=0).reshape(100, 100), cmap=cmap)\n",
    "ax.scatter(X_test[pred==0, 0], X_test[pred==0, 1])\n",
    "ax.scatter(X_test[pred==1, 0], X_test[pred==1, 1], color='r')\n",
    "cbar = plt.colorbar(contour, ax=ax)\n",
    "_ = ax.set(xlim=(-3, 3), ylim=(-3, 3), xlabel='X', ylabel='Y');\n",
    "cbar.ax.set_ylabel('Posterior predictive mean probability of class label = 0');"
   ]
  },
  {
   "cell_type": "markdown",
   "metadata": {},
   "source": [
    "### Uncertainty in predicted value\n",
    "\n",
    "So far, everything I showed we could have done with a non-Bayesian Neural Network. The mean of the posterior predictive for each class-label should be identical to maximum likelihood predicted values. However, we can also look at the standard deviation of the posterior predictive to get a sense for the uncertainty in our predictions. Here is what that looks like:"
   ]
  },
  {
   "cell_type": "code",
   "execution_count": null,
   "metadata": {},
   "outputs": [],
   "source": [
    "cmap = sns.cubehelix_palette(light=1, as_cmap=True)\n",
    "fig, ax = plt.subplots(figsize=(12, 9))\n",
    "contour = ax.contourf(grid[0], grid[1], ppc.std(axis=0).reshape(100, 100), cmap=cmap)\n",
    "ax.scatter(X_test[pred==0, 0], X_test[pred==0, 1])\n",
    "ax.scatter(X_test[pred==1, 0], X_test[pred==1, 1], color='r')\n",
    "cbar = plt.colorbar(contour, ax=ax)\n",
    "_ = ax.set(xlim=(-3, 3), ylim=(-3, 3), xlabel='X', ylabel='Y');\n",
    "cbar.ax.set_ylabel('Uncertainty (posterior predictive standard deviation)');"
   ]
  },
  {
   "cell_type": "markdown",
   "metadata": {},
   "source": [
    "We can see that very close to the decision boundary, our uncertainty as to which label to predict is highest. You can imagine that associating predictions with uncertainty is a critical property for many applications like health care. To further maximize accuracy, we might want to train the model primarily on samples from that high-uncertainty region."
   ]
  },
  {
   "cell_type": "markdown",
   "metadata": {},
   "source": [
    "It is also clear that the uncertainty is large in the region where there is no training data. That is what should be expected, and it is good that our network shows this explicitly. The normal neural network would not give any such signals."
   ]
  },
  {
   "cell_type": "markdown",
   "metadata": {},
   "source": [
    "## Mini-batch ADVI\n",
    "\n",
    "So far, we have trained our model on all data at once. Obviously this won't scale to something like ImageNet. Moreover, training on mini-batches of data (stochastic gradient descent) avoids local minima and can lead to faster convergence.\n",
    "\n",
    "Fortunately, ADVI can be run on mini-batches as well. It just requires some setting up:"
   ]
  },
  {
   "cell_type": "code",
   "execution_count": null,
   "metadata": {},
   "outputs": [],
   "source": [
    "minibatch_x = pm.Minibatch(X_train, batch_size=50)\n",
    "minibatch_y = pm.Minibatch(Y_train, batch_size=50)\n",
    "neural_network_minibatch = construct_nn(minibatch_x, minibatch_y)\n",
    "with neural_network_minibatch:\n",
    "    approx = pm.fit(40000, method=pm.ADVI())"
   ]
  },
  {
   "cell_type": "code",
   "execution_count": null,
   "metadata": {},
   "outputs": [],
   "source": [
    "fig, ax = plt.subplots(figsize=(8,6))\n",
    "\n",
    "ax.plot(-inference.hist)\n",
    "ax.set_ylabel('ELBO')\n",
    "ax.set_xlabel('iteration');"
   ]
  },
  {
   "cell_type": "markdown",
   "metadata": {},
   "source": [
    "As you can see, mini-batch ADVI's running time is much lower. It also seems to converge faster.\n",
    "\n",
    "For fun, we can also look at the trace. The point is that we also get uncertainty of our Neural Network weights."
   ]
  },
  {
   "cell_type": "markdown",
   "metadata": {},
   "source": [
    "The plotting of traces in pyMC3 requires the ArviZ module."
   ]
  },
  {
   "cell_type": "code",
   "execution_count": null,
   "metadata": {},
   "outputs": [],
   "source": [
    "# NOTE: This takes too long or hangs up.\n",
    "#pm.traceplot(trace);"
   ]
  },
  {
   "cell_type": "markdown",
   "metadata": {},
   "source": [
    "\n",
    "## Next steps\n",
    "\n",
    "[`Theano`](http://deeplearning.net/software/theano/), which is used by `PyMC3` as its computational backend, was mainly developed for estimating neural networks and there are great libraries like [`Lasagne`](https://github.com/Lasagne/Lasagne) that build on top of `Theano` to make construction of the most common neural network architectures easy. There is a [follow-up blog post on how to use Lasagne together with PyMC3](https://twiecki.github.io/blog/2016/07/05/bayesian-deep-learning/).\n",
    "\n",
    "You should be able to run this example on the GPU by setting `device = gpu` and `floatX = float32` in your `.theanorc`.\n",
    "\n",
    "You might argue that the above network isn't really deep, but note that we could easily extend it to have more layers, including convolutional ones to train on more challenging data sets, as demonstrated [here]([follow-up blog post on how to use Lasagne together with PyMC3](https://twiecki.github.io/blog/2016/07/05/bayesian-deep-learning/)."
   ]
  },
  {
   "cell_type": "markdown",
   "metadata": {},
   "source": [
    "## Acknowledgements\n",
    "\n",
    "This notebook is very much inspired by a blog post written by Thomas Wiecki (and updated by Maxim Kochurov). The\n",
    "original posts are available [here](http://twiecki.github.io/blog/2016/06/01/bayesian-deep-learning/) and [here](https://docs.pymc.io/notebooks/bayesian_neural_network_advi.html).\n",
    "\n",
    "This example uses the [PyMC3](https://docs.pymc.io/) package for probabilistic programming, and relies in particular on the [ADVI](http://pymc-devs.github.io/pymc3/api.html#advi) implementation by [Taku Yoshioka](https://github.com/taku-y)."
   ]
  },
  {
   "cell_type": "code",
   "execution_count": null,
   "metadata": {},
   "outputs": [],
   "source": []
  },
  {
   "cell_type": "code",
   "execution_count": null,
   "metadata": {},
   "outputs": [],
   "source": []
  }
 ],
 "metadata": {
  "anaconda-cloud": {},
  "celltoolbar": "Slideshow",
  "kernelspec": {
   "display_name": "Python 3",
   "language": "python",
   "name": "python3"
  },
  "language_info": {
   "codemirror_mode": {
    "name": "ipython",
    "version": 3
   },
   "file_extension": ".py",
   "mimetype": "text/x-python",
   "name": "python",
   "nbconvert_exporter": "python",
   "pygments_lexer": "ipython3",
   "version": "3.7.3"
  },
  "latex_envs": {
   "bibliofile": "biblio.bib",
   "cite_by": "apalike",
   "current_citInitial": 1,
   "eqLabelWithNumbers": true,
   "eqNumInitial": 0
  },
  "nav_menu": {},
  "toc": {
   "navigate_menu": true,
   "number_sections": true,
   "sideBar": true,
   "threshold": 6,
   "toc_cell": false,
   "toc_section_display": "block",
   "toc_window_display": false
  }
 },
 "nbformat": 4,
 "nbformat_minor": 1
}
